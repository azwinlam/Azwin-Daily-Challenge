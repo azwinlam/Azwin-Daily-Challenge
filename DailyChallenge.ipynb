{
 "cells": [
  {
   "cell_type": "markdown",
   "metadata": {},
   "source": [
    "Given a string, return the character with the most value. The value of a character is the difference between the index of its first occurrence and the index of its last occurrence. If there is a tie, return the character that goes first alphabetically.\n",
    "\n",
    "\n",
    "\n",
    "Example:\n",
    "\n",
    "Input: 'abcdbcd'\n",
    "\n",
    "Output: 'b', since difference between first index and last index = 4 - 1 = 3, which ties with the values of c and d but since b goes first alphabetically, that's the most valuable character."
   ]
  },
  {
   "cell_type": "code",
   "execution_count": 2,
   "metadata": {},
   "outputs": [
    {
     "name": "stdout",
     "output_type": "stream",
     "text": [
      "Wall time: 0 ns\n"
     ]
    }
   ],
   "source": [
    "%%time\n",
    "def answer(s):\n",
    "    d={}\n",
    "    for ch in s:\n",
    "        if ch not in d.keys():\n",
    "            d[ch] = ch\n",
    "\n",
    "    for key in d.keys():\n",
    "        x = s.find(d[key])\n",
    "        y = s.rfind(d[key])\n",
    "        if x != -1 and y!= -1:\n",
    "            d[key] = y-x\n",
    "    answer = [k for k,v in d.items() if v == max(d.values())]\n",
    "    answer = sorted(answer)[0]\n",
    "    return answer"
   ]
  },
  {
   "cell_type": "code",
   "execution_count": 8,
   "metadata": {},
   "outputs": [
    {
     "name": "stdout",
     "output_type": "stream",
     "text": [
      "7.02 µs ± 277 ns per loop (mean ± std. dev. of 7 runs, 100000 loops each)\n"
     ]
    }
   ],
   "source": [
    "\n",
    "s = \"abcdbcd\"\n",
    "\n",
    "%timeit answer(s) "
   ]
  },
  {
   "cell_type": "markdown",
   "metadata": {},
   "source": [
    "#daily challenge 12\n",
    "\n",
    "Given a list of 5 floats, return a tuple of the average of the middle 3 floats and the lowest float of that list.\n",
    "\n",
    "\n",
    "\n",
    "Example:\n",
    "\n",
    "Input:\n",
    "\n",
    "[6.4, 11.4, 7.6, 10.5, 8.1]\n",
    "\n",
    "Returns:\n",
    "\n",
    " (9.83, 6.4), 9.83 (rounded off to nearest two decimal places) is the average of 11.4, 7.6 and 10.5 and 6.4 is the lowest float of the list."
   ]
  },
  {
   "cell_type": "code",
   "execution_count": 21,
   "metadata": {},
   "outputs": [],
   "source": [
    "\n",
    "\n",
    "def challenge(lst):\n",
    "    return (round((sum(lst[1:4]))/3,2), min(lst))\n",
    "    "
   ]
  },
  {
   "cell_type": "code",
   "execution_count": 25,
   "metadata": {},
   "outputs": [
    {
     "data": {
      "text/plain": [
       "(9.83, 6.4)"
      ]
     },
     "execution_count": 25,
     "metadata": {},
     "output_type": "execute_result"
    }
   ],
   "source": [
    "l = [6.4, 11.4, 7.6, 10.5, 8.1]\n",
    "\n",
    "challenge(l)"
   ]
  },
  {
   "cell_type": "markdown",
   "metadata": {},
   "source": [
    "Daily Challenge 13\n",
    "Given a string, create a function that splits the string into pairs of two characters. Put the pairs inside a list then return the list. If a character is missing in a pair, use the character '?' to replace the missing character.\n",
    "\n",
    "\n",
    "\n",
    "Example:\n",
    "\n",
    "Input: \"abcdefg\"\n",
    "\n",
    "Output = [\"ab\", \"cd\", \"ef\", \"g?\"]\n",
    "\n",
    "\n",
    "\n",
    "Input: \"abcdef\"\n",
    "\n",
    "Output = [\"ab\", \"cd\", \"ef\"]"
   ]
  },
  {
   "cell_type": "code",
   "execution_count": 50,
   "metadata": {},
   "outputs": [],
   "source": [
    "s = \"abcdefg\"\n",
    "def pair_challenge(s):\n",
    "    answer = []\n",
    "    pairs = []\n",
    "    for ch in s:\n",
    "        pairs.append(ch)\n",
    "        if len(pairs) == 2:\n",
    "            answer.append(pairs)\n",
    "            pairs =[]\n",
    "    if len(pairs) == 1:\n",
    "        pairs.append('?')\n",
    "        answer.append(pairs)\n",
    "    result = []\n",
    "    for pair in answer:\n",
    "        x = \"\".join(pair)\n",
    "        result.append(x)\n",
    "    return result\n",
    "    \n",
    "    "
   ]
  },
  {
   "cell_type": "code",
   "execution_count": 49,
   "metadata": {},
   "outputs": [
    {
     "data": {
      "text/plain": [
       "['ab', 'cd', 'ef']"
      ]
     },
     "execution_count": 49,
     "metadata": {},
     "output_type": "execute_result"
    }
   ],
   "source": [
    "pair_challenge(s)"
   ]
  },
  {
   "cell_type": "markdown",
   "metadata": {},
   "source": [
    "Given a list of integers, split the list into two, put the arrays on top of each other, then add them together. Return the finished list.\n",
    "\n",
    "Example:\n",
    "\n",
    "Input:\n",
    "\n",
    "[1, 2, 3, 4, 5, 6, 7]\n",
    "\n",
    "Putting on top:\n",
    "\n",
    "[1, 2, 3]\n",
    "\n",
    "[4, 5, 6, 7]\n",
    "\n",
    "Adding up process:\n",
    "\n",
    "[1, 2, 3]\n",
    "\n",
    "+\n",
    "\n",
    "[4, 5, 6, 7]\n",
    "\n",
    "------------\n",
    "\n",
    "[5, 7, 9, 7]\n",
    "\n",
    "Returns:\n",
    "\n",
    "[5, 7, 9, 7]"
   ]
  },
  {
   "cell_type": "code",
   "execution_count": 115,
   "metadata": {},
   "outputs": [
    {
     "data": {
      "text/plain": [
       "array([5, 7, 9, 7])"
      ]
     },
     "execution_count": 115,
     "metadata": {},
     "output_type": "execute_result"
    }
   ],
   "source": [
    "test = [1, 2, 3, 4, 5, 6, 7]\n",
    "\n",
    "def challenge(lst):\n",
    "    import numpy as np\n",
    "    x = len(test)//2\n",
    "    split_test = np.split(test,[x])\n",
    "    if len(split_test[0]) != len(split_test[1]):\n",
    "        split_test[0] = np.append(split_test[0],[0])\n",
    "    answer = np.add(split_test[0],split_test[1]) \n",
    "    return answer\n",
    "challenge(test)\n"
   ]
  },
  {
   "cell_type": "code",
   "execution_count": 85,
   "metadata": {},
   "outputs": [
    {
     "data": {
      "text/plain": [
       "[array([1, 2, 3, 4]), array([5, 6, 7, 8])]"
      ]
     },
     "execution_count": 85,
     "metadata": {},
     "output_type": "execute_result"
    }
   ],
   "source": []
  },
  {
   "cell_type": "code",
   "execution_count": 64,
   "metadata": {},
   "outputs": [
    {
     "ename": "ValueError",
     "evalue": "operands could not be broadcast together with shapes (4,) (3,) ",
     "output_type": "error",
     "traceback": [
      "\u001b[1;31m---------------------------------------------------------------------------\u001b[0m",
      "\u001b[1;31mValueError\u001b[0m                                Traceback (most recent call last)",
      "\u001b[1;32m<ipython-input-64-330fa38be4ae>\u001b[0m in \u001b[0;36m<module>\u001b[1;34m\u001b[0m\n\u001b[1;32m----> 1\u001b[1;33m \u001b[0manswer\u001b[0m \u001b[1;33m=\u001b[0m \u001b[0mnp\u001b[0m\u001b[1;33m.\u001b[0m\u001b[0madd\u001b[0m\u001b[1;33m(\u001b[0m\u001b[0msplit_test\u001b[0m\u001b[1;33m[\u001b[0m\u001b[1;36m0\u001b[0m\u001b[1;33m]\u001b[0m\u001b[1;33m,\u001b[0m\u001b[0msplit_test\u001b[0m\u001b[1;33m[\u001b[0m\u001b[1;36m1\u001b[0m\u001b[1;33m]\u001b[0m\u001b[1;33m)\u001b[0m\u001b[1;33m\u001b[0m\u001b[1;33m\u001b[0m\u001b[0m\n\u001b[0m",
      "\u001b[1;31mValueError\u001b[0m: operands could not be broadcast together with shapes (4,) (3,) "
     ]
    }
   ],
   "source": [
    "answer = np.add(split_test[0],split_test[1])"
   ]
  },
  {
   "cell_type": "markdown",
   "metadata": {},
   "source": [
    "https://leetcode.com/problems/minimum-time-visiting-all-points/submissions/"
   ]
  },
  {
   "cell_type": "code",
   "execution_count": 5,
   "metadata": {},
   "outputs": [
    {
     "data": {
      "text/plain": [
       "7"
      ]
     },
     "execution_count": 5,
     "metadata": {},
     "output_type": "execute_result"
    }
   ],
   "source": [
    "def minTimeToVisitAllPoints(points):\n",
    "    dist_total = []\n",
    "    for i in range(len(points)-1):\n",
    "        p1 = [points[i][0],points[i][1]]\n",
    "        p2 = [points[i+1][0], points[i+1][1]]  \n",
    "        y = abs(p2[1]-p1[1])\n",
    "        x = abs(p2[0]-p1[0])\n",
    "        dist = max(x,y)\n",
    "        dist_total.append(dist)\n",
    "    return sum(dist_total)\n",
    "\n",
    "points = [[1,1],[3,4],[-1,0]]\n",
    "minTimeToVisitAllPoints(points)"
   ]
  },
  {
   "cell_type": "markdown",
   "metadata": {},
   "source": [
    "Daily Challange #15\n",
    "\n",
    "[1, 2, 3, 4, 5]\n",
    "\n",
    "['a', 'b', 'c', 'd', 'e']"
   ]
  },
  {
   "cell_type": "code",
   "execution_count": 4,
   "metadata": {},
   "outputs": [],
   "source": [
    "# x = [1, 2, 3, 4, 5]\n",
    "# y = ['a', 'b', 'c', 'd', 'e']\n",
    "\n",
    "# x= [1, 2, 3]\n",
    "\n",
    "# y =['a', 'b', 'c', 'd', 'e']\n",
    "\n",
    "x = [1, 2, 3, 4, 5]\n",
    "y = ['a', 'b']"
   ]
  },
  {
   "cell_type": "code",
   "execution_count": 5,
   "metadata": {},
   "outputs": [],
   "source": [
    "z = zip(x,y)"
   ]
  },
  {
   "cell_type": "code",
   "execution_count": 6,
   "metadata": {},
   "outputs": [
    {
     "name": "stdout",
     "output_type": "stream",
     "text": [
      "[1, 'a', 2, 'b']\n"
     ]
    }
   ],
   "source": [
    "new_list = []\n",
    "for pair in list(z):\n",
    "    new_list.append(pair[0])\n",
    "    new_list.append(pair[1])\n",
    "print(new_list)"
   ]
  },
  {
   "cell_type": "code",
   "execution_count": 7,
   "metadata": {},
   "outputs": [],
   "source": [
    "max_range = max(len(x),len(y))"
   ]
  },
  {
   "cell_type": "code",
   "execution_count": 8,
   "metadata": {},
   "outputs": [],
   "source": [
    "def challenge15(lst1,lst2):\n",
    "    test_list = []\n",
    "    for i in range(max(len(lst1),len(lst2))):\n",
    "        try:\n",
    "            test_list.append(lst1[i])\n",
    "        except:\n",
    "            pass\n",
    "        try:\n",
    "            test_list.append(lst2[i])\n",
    "        except:\n",
    "            pass\n",
    "    return test_list"
   ]
  },
  {
   "cell_type": "code",
   "execution_count": 9,
   "metadata": {
    "tags": []
   },
   "outputs": [
    {
     "name": "stdout",
     "output_type": "stream",
     "text": [
      "[1, 'a', 2, 'b', 3, 4, 5]\n"
     ]
    }
   ],
   "source": [
    "print(challenge15(x,y))"
   ]
  },
  {
   "cell_type": "markdown",
   "metadata": {},
   "source": [
    "Challenge 16\n",
    "\n",
    "Given an integer n, find all the integers that is the multiple of 3 from 0 to n. Return the sum of all these integers.\n",
    "\n",
    "\n",
    "\n",
    "Example:\n",
    "\n",
    "Input: \n",
    "\n",
    "10\n",
    "\n",
    "Multiples of 3 from 0 to 10:\n",
    "\n",
    "3, 6, 9\n",
    "\n",
    "Return sum of these integers:\n",
    "\n",
    "18"
   ]
  },
  {
   "cell_type": "code",
   "execution_count": 68,
   "metadata": {},
   "outputs": [],
   "source": [
    "def challenge16(n):\n",
    "    n = int(n)\n",
    "    lst = []\n",
    "    for i in range(0,n+1):\n",
    "        if i%3==0 and i>0:\n",
    "            lst.append(i)\n",
    "    return sum(lst)\n"
   ]
  },
  {
   "cell_type": "code",
   "execution_count": 69,
   "metadata": {},
   "outputs": [
    {
     "data": {
      "text/plain": [
       "18"
      ]
     },
     "execution_count": 69,
     "metadata": {},
     "output_type": "execute_result"
    }
   ],
   "source": [
    "challenge16(10)"
   ]
  },
  {
   "cell_type": "code",
   "execution_count": 70,
   "metadata": {},
   "outputs": [],
   "source": [
    "import numpy as np\n"
   ]
  },
  {
   "cell_type": "code",
   "execution_count": 72,
   "metadata": {},
   "outputs": [],
   "source": [
    "bats = np.arange(10).reshape(2,5)"
   ]
  },
  {
   "cell_type": "code",
   "execution_count": 105,
   "metadata": {},
   "outputs": [],
   "source": [
    "A = np.array([[10,15,17],[2, 5, 7],[11,3, 8]])"
   ]
  },
  {
   "cell_type": "code",
   "execution_count": 106,
   "metadata": {},
   "outputs": [
    {
     "data": {
      "text/plain": [
       "array([15,  5,  3])"
      ]
     },
     "execution_count": 106,
     "metadata": {},
     "output_type": "execute_result"
    }
   ],
   "source": [
    "A[:,1]"
   ]
  },
  {
   "cell_type": "code",
   "execution_count": 81,
   "metadata": {},
   "outputs": [
    {
     "name": "stdout",
     "output_type": "stream",
     "text": [
      "Variety\n"
     ]
    }
   ],
   "source": [
    "Big_Data = [\"Velocity\", \"Volume\", \"Variety\" ]\n",
    "\n",
    "social_data = Big_Data.pop()\n",
    "\n",
    "print(social_data)"
   ]
  },
  {
   "cell_type": "code",
   "execution_count": 109,
   "metadata": {},
   "outputs": [
    {
     "data": {
      "text/plain": [
       "True"
      ]
     },
     "execution_count": 109,
     "metadata": {},
     "output_type": "execute_result"
    }
   ],
   "source": [
    "bool( [ \"me\", \"myself\", \"I\"] )"
   ]
  },
  {
   "cell_type": "code",
   "execution_count": 119,
   "metadata": {},
   "outputs": [],
   "source": [
    "surname = \"Rasputin\"\n",
    "\n",
    "advisor = surname\n",
    "\n",
    "del surname"
   ]
  },
  {
   "cell_type": "code",
   "execution_count": 120,
   "metadata": {},
   "outputs": [
    {
     "data": {
      "text/plain": [
       "'Rasputin'"
      ]
     },
     "execution_count": 120,
     "metadata": {},
     "output_type": "execute_result"
    }
   ],
   "source": [
    "advisor"
   ]
  },
  {
   "cell_type": "code",
   "execution_count": 121,
   "metadata": {},
   "outputs": [
    {
     "ename": "NameError",
     "evalue": "name 'surname' is not defined",
     "output_type": "error",
     "traceback": [
      "\u001b[1;31m---------------------------------------------------------------------------\u001b[0m",
      "\u001b[1;31mNameError\u001b[0m                                 Traceback (most recent call last)",
      "\u001b[1;32m<ipython-input-121-53f7b9d5bf32>\u001b[0m in \u001b[0;36m<module>\u001b[1;34m\u001b[0m\n\u001b[1;32m----> 1\u001b[1;33m \u001b[0msurname\u001b[0m\u001b[1;33m\u001b[0m\u001b[1;33m\u001b[0m\u001b[0m\n\u001b[0m",
      "\u001b[1;31mNameError\u001b[0m: name 'surname' is not defined"
     ]
    }
   ],
   "source": [
    "surname"
   ]
  },
  {
   "cell_type": "markdown",
   "metadata": {},
   "source": [
    "day 17\n",
    "\n",
    "Given a list of 11 integers, return a string in the form of a Hong Kong phone number in this format: +852 xxxx xxxx\n",
    "\n",
    "Only the numbers 2, 3, 5, 6, 7, and 9 can be added after the extension 852.\n",
    "\n",
    "\n",
    "\n",
    "Example 1:\n",
    "\n",
    "Input:\n",
    "\n",
    "[1, 2, 3, 4, 5, 6, 7, 8, 9, 0, 1]\n",
    "\n",
    "Returns:\n",
    "\n",
    "\"+852 9134 6701\""
   ]
  },
  {
   "cell_type": "code",
   "execution_count": 222,
   "metadata": {},
   "outputs": [],
   "source": [
    "def hk_number(lst):\n",
    "    import random\n",
    "    area = \"+852 \"\n",
    "    restriction = [2, 3, 5, 6, 7, 9]\n",
    "    remaining_digit = \"\"\n",
    "\n",
    "    if 8 in lst and 5 in lst and 2 in lst:\n",
    "        lst.remove(8)\n",
    "        lst.remove(5)\n",
    "        lst.remove(2)\n",
    "\n",
    "        res = False\n",
    "        while res == False:\n",
    "            first_digit = lst[random.randint(0,len(lst)-1)]\n",
    "            if first_digit in restriction:\n",
    "                res = True\n",
    "                lst.remove(first_digit)\n",
    "                first_digit = str(first_digit)\n",
    "\n",
    "        number = area +first_digit\n",
    "        while len(lst) > 4:\n",
    "            remaining_digit = random.choice(lst)\n",
    "            lst.remove(remaining_digit)\n",
    "            remaining_digit = str(remaining_digit)\n",
    "            number += remaining_digit\n",
    "        number += \" \"\n",
    "        while len(lst) > 0:\n",
    "            remaining_digit = lst[random.randint(0,len(lst)-1)]\n",
    "            lst.remove(remaining_digit)\n",
    "            remaining_digit = str(remaining_digit)\n",
    "            number += remaining_digit\n",
    "        return number\n",
    "    else:\n",
    "        return \"No 852 Found\""
   ]
  },
  {
   "cell_type": "code",
   "execution_count": 223,
   "metadata": {},
   "outputs": [
    {
     "data": {
      "text/plain": [
       "'+852 7361 4910'"
      ]
     },
     "execution_count": 223,
     "metadata": {},
     "output_type": "execute_result"
    }
   ],
   "source": [
    "hk_number([1, 2, 3, 4, 5, 6, 7, 8, 9, 0, 1])"
   ]
  },
  {
   "cell_type": "markdown",
   "metadata": {},
   "source": [
    "Daily Challenge 18\n",
    "Given an integer greater than 0, return a list of all possible palindromes of the integer.\n",
    "\n",
    "\n",
    "\n",
    "Example:\n",
    "\n",
    "Input: \n",
    "\n",
    "34322122\n",
    "\n",
    "Output:\n",
    "\n",
    "[22, 212, 343, 22122]"
   ]
  },
  {
   "cell_type": "code",
   "execution_count": 22,
   "metadata": {},
   "outputs": [],
   "source": [
    "num = 34322122\n",
    "\n",
    "def challenge18(num):\n",
    "    string = str(num)\n",
    "    answer = []\n",
    "    for i in range(len(string)-1):\n",
    "        test = []\n",
    "        test.append(string[i])\n",
    "        for j in range(i+1,len(string)):\n",
    "            test.append(string[j])\n",
    "            if test == test[::-1]:\n",
    "                result = \"\".join(test)\n",
    "                answer.append(int(result))\n",
    "    return answer"
   ]
  },
  {
   "cell_type": "code",
   "execution_count": 23,
   "metadata": {},
   "outputs": [
    {
     "data": {
      "text/plain": [
       "[343, 22, 22122, 212, 22]"
      ]
     },
     "execution_count": 23,
     "metadata": {},
     "output_type": "execute_result"
    }
   ],
   "source": [
    "challenge18(num)"
   ]
  },
  {
   "cell_type": "markdown",
   "metadata": {},
   "source": [
    "Daily 19\n",
    "\n",
    "Given a string of names with a certain pattern, return a formatted string with a certain pattern. \n",
    "\n",
    "\n",
    "\n",
    "Example:\n",
    "\n",
    "Input:\n",
    "\n",
    "\"Alfred:Black;Carey:Drake;Elena:Ferguson;Georgina:Harrison\"\n",
    "\n",
    "Output:\n",
    "\n",
    "\"(BLACK, ALFRED)(DRAKE, CAREY)(FERGUSON, ELENA)(HARRISON, GEORGINA)\""
   ]
  },
  {
   "cell_type": "code",
   "execution_count": 17,
   "metadata": {},
   "outputs": [],
   "source": [
    "s = \"Alfred:Black;Carey:Drake;Elena:Ferguson;Georgina:Harrison\"\n",
    "def challenge19(s):\n",
    "    s = s.upper().split(\";\")\n",
    "    ans = []\n",
    "    for pair in s:\n",
    "        pair = pair.split(\":\")\n",
    "        pair = (\"(\"+pair[1]+\", \"+pair[0]+\")\")\n",
    "        ans.append(pair)\n",
    "    ans = \"\".join(ans)\n",
    "    return ans"
   ]
  },
  {
   "cell_type": "code",
   "execution_count": 18,
   "metadata": {},
   "outputs": [
    {
     "data": {
      "text/plain": [
       "'(BLACK, ALFRED)(DRAKE, CAREY)(FERGUSON, ELENA)(HARRISON, GEORGINA)'"
      ]
     },
     "execution_count": 18,
     "metadata": {},
     "output_type": "execute_result"
    }
   ],
   "source": [
    "challenge19(s)"
   ]
  },
  {
   "cell_type": "markdown",
   "metadata": {},
   "source": [
    "Given a string, count all the lowercase letters. Return a dictionary with the keys as the lowercase letters and the values as the letters' counts respectively. The keys should be sorted in alphabetical order.\n",
    "\n",
    "\n",
    "\n",
    "Example:\n",
    "\n",
    "Input:\n",
    "\n",
    "\"apple\"\n",
    "\n",
    "Output:\n",
    "\n",
    "{'a': 1, 'e': 1, 'l': 1, 'p': 2}"
   ]
  },
  {
   "cell_type": "code",
   "execution_count": 28,
   "metadata": {},
   "outputs": [],
   "source": [
    "\n",
    "\n",
    "def challenge20(s):\n",
    "    from collections import Counter\n",
    "    return {k: v for k, v in sorted(dict(Counter(s)).items(), key=lambda item: item[0])}"
   ]
  },
  {
   "cell_type": "code",
   "execution_count": 32,
   "metadata": {},
   "outputs": [],
   "source": [
    "def dict_counter(string):\n",
    "\n",
    "    return {letter: string.count(letter) for letter in sorted(set(string))}"
   ]
  },
  {
   "cell_type": "code",
   "execution_count": 33,
   "metadata": {},
   "outputs": [
    {
     "name": "stdout",
     "output_type": "stream",
     "text": [
      "2.1 µs ± 95.8 ns per loop (mean ± std. dev. of 7 runs, 100000 loops each)\n"
     ]
    }
   ],
   "source": [
    "%timeit dict_counter(s)"
   ]
  },
  {
   "cell_type": "code",
   "execution_count": 34,
   "metadata": {},
   "outputs": [
    {
     "name": "stdout",
     "output_type": "stream",
     "text": [
      "5.06 µs ± 148 ns per loop (mean ± std. dev. of 7 runs, 100000 loops each)\n"
     ]
    }
   ],
   "source": [
    "%timeit challenge20(s)"
   ]
  },
  {
   "source": [
    "Daily Challenge 21: \n",
    "\n",
    "Given a list of mixed integers of different representations, add up the non-string integers and subtract this from the total of string integers.\n",
    "\n",
    "\n",
    "\n",
    "Example:\n",
    "\n",
    "Input:\n",
    "\n",
    "[1, '2', 3, '4', 5]\n",
    "\n",
    "Output:\n",
    "\n",
    "-3, because:\n",
    "\n",
    "total of non-string integers = 1+3+5 = 9\n",
    "\n",
    "total of string integers = 2+4 = 6\n",
    "\n",
    "total of string integers - total of non-string integers = -3 "
   ],
   "cell_type": "markdown",
   "metadata": {}
  },
  {
   "cell_type": "code",
   "execution_count": 9,
   "metadata": {},
   "outputs": [
    {
     "output_type": "stream",
     "name": "stdout",
     "text": [
      "14.2 µs ± 2.5 µs per loop (mean ± std. dev. of 7 runs, 100000 loops each)\n"
     ]
    }
   ],
   "source": [
    "lst = [1, '2', 3, '4', 5]\n",
    "def challenge21(lst):\n",
    "    string_lst = []\n",
    "    int_lst = []\n",
    "    for i in lst:\n",
    "        if isinstance(i,str):\n",
    "            string_lst.append(i)\n",
    "            string_lst.append(\"+\")\n",
    "        else:\n",
    "            int_lst.append(i)\n",
    "    string_lst.append(\"0\")\n",
    "    string_lst = eval(\"\".join(string_lst))\n",
    "    int_lst = sum(int_lst)\n",
    "    return string_lst - int_lst\n",
    "\n",
    "%timeit challenge21(lst)"
   ]
  },
  {
   "cell_type": "code",
   "execution_count": 4,
   "metadata": {},
   "outputs": [],
   "source": [
    "def challenge21_revised(lst):\n",
    "    return sum([int(i) for i in lst if type(i) == str ]) - sum([i for i in lst if type(i) == int])"
   ]
  },
  {
   "cell_type": "code",
   "execution_count": 6,
   "metadata": {},
   "outputs": [
    {
     "output_type": "stream",
     "name": "stdout",
     "text": [
      "4.34 µs ± 659 ns per loop (mean ± std. dev. of 7 runs, 100000 loops each)\n"
     ]
    }
   ],
   "source": [
    "%timeit challenge21_revised(lst)"
   ]
  },
  {
   "source": [
    "Daily Challenge 22\n",
    "\n",
    "Given a string of decimal digits, output an integer of its binary representation like below:\n",
    "\n",
    "\n",
    "\n",
    "Example:\n",
    "\n",
    "Input: \"2973\"\n",
    "\n",
    "\"2\" => 10\n",
    "\n",
    "\"9\" => 1001\n",
    "\n",
    "\"7\" => 111\n",
    "\n",
    "\"3\" => 11\n",
    "\n",
    "Therefore output is 10100111111, because of 10+1001+111+11."
   ],
   "cell_type": "markdown",
   "metadata": {}
  },
  {
   "cell_type": "code",
   "execution_count": 6,
   "metadata": {},
   "outputs": [
    {
     "output_type": "execute_result",
     "data": {
      "text/plain": [
       "'10100111111'"
      ]
     },
     "metadata": {},
     "execution_count": 6
    }
   ],
   "source": [
    "def challenge22(s):\n",
    "    return \"\".join([bin(int(num))[2:] for num in s])\n",
    "challenge22(\"2973\")"
   ]
  },
  {
   "source": [
    "Given an input integer x, return a list of integers in which the sum is equal to x. The integers inside the list must consist of values that are a power of 3. For example:\n",
    "\n",
    "1 is a possible number of the list because of 3^0 => 1\n",
    "\n",
    "3 is also a possible number of the list because 3^1 => 3"
   ],
   "cell_type": "markdown",
   "metadata": {}
  },
  {
   "cell_type": "code",
   "execution_count": 57,
   "metadata": {},
   "outputs": [],
   "source": [
    "def challenge23(n):\n",
    "    import math\n",
    "    answer = []\n",
    "    for i in range(math.ceil(math.log(n)/math.log(3)), -1, -1):\n",
    "        while 3**i < n and (sum(answer)+3**i <= n):\n",
    "                answer.append(3**i)\n",
    "\n",
    "        if sum(answer) == n:\n",
    "            return answer"
   ]
  },
  {
   "cell_type": "code",
   "execution_count": 60,
   "metadata": {},
   "outputs": [
    {
     "output_type": "execute_result",
     "data": {
      "text/plain": [
       "[81, 9, 9]"
      ]
     },
     "metadata": {},
     "execution_count": 60
    }
   ],
   "source": [
    "challenge23(99)"
   ]
  },
  {
   "source": [
    "challenge24\n",
    "\n",
    "Given a number, return the difference between the maximum and minimum numbers that can be formed when the digits are rearranged.\n"
   ],
   "cell_type": "markdown",
   "metadata": {}
  },
  {
   "cell_type": "code",
   "execution_count": 26,
   "metadata": {},
   "outputs": [],
   "source": [
    "def challenge24(number):\n",
    "    return int(\"\".join(sorted(str(number), reverse=True)))-int(\"\".join(sorted(str(number))))"
   ]
  },
  {
   "cell_type": "code",
   "execution_count": 30,
   "metadata": {},
   "outputs": [
    {
     "output_type": "execute_result",
     "data": {
      "text/plain": [
       "99"
      ]
     },
     "metadata": {},
     "execution_count": 30
    }
   ],
   "source": [
    "challenge24(112)"
   ]
  },
  {
   "source": [
    "#Daily Challenge 25\n",
    "\n",
    "An anagram is a word, x, formed by rearranging the letters that make up another word, y, and using up all the letters in y at the same frequency. For example, \"dear\" is an anagram of \"read\" and \"plead\" is an anagram of \"paled\".\n",
    "\n",
    "The Hamming distance between two strings is the number of positions at which they differ. Hamming distances can only be calculated for strings of equal length.\n",
    "\n",
    "s1 = \"eleven\"\n",
    "\n",
    "s2 = \"twelve\"\n",
    "\n",
    "They only have the third position (index 2) in common, giving them a Hamming distance of 5.\n",
    "\n",
    "As anagrams are of identical length, the Hamming distance between them can be calculated.\n",
    "\n",
    "s1 = \"read\"\n",
    "\n",
    "s2 = \"dear\"\n",
    "\n",
    "These strings differ at the first and last positions, giving them a Hamming distance of 2. \"Plead\" and \"paled\" have a Hamming distance of 3.\n",
    "\n",
    "Create a function that takes two strings, and returns:\n",
    "\n",
    "True if they are anagrams of each other and their Hamming distance is equal to their length (i.e. no letters in the same positions).\n",
    "\n",
    "False if they aren't anagrams, or Their Hamming distance if they are anagrams with >=1 letter at the same index. Examples\n",
    "\n",
    "max_ham(\"dear\", \"read\") ➞ 2\n",
    "\n",
    "max_ham(\"dare\", \"read\") ➞ True\n",
    "\n",
    "max_ham(\"solemn\", \"molest\") ➞ False"
   ],
   "cell_type": "markdown",
   "metadata": {}
  },
  {
   "cell_type": "code",
   "execution_count": 60,
   "metadata": {},
   "outputs": [],
   "source": [
    "s1 = \"solemn\"\n",
    "s2 = \"molests\"\n",
    "\n",
    "\n",
    "def challenge25(s1,s2):\n",
    "    if len(s1) != len(s2):\n",
    "        return \"Strings are not equal in length, cannot be anagram\"\n",
    "    anagram = False\n",
    "    #is anagram?\n",
    "    if sorted(s1) == sorted(s1):\n",
    "        anagram = True\n",
    "    #find hamming distance\n",
    "    hamming_count = 0\n",
    "    for i in range(len(s1)):\n",
    "        if s1[i] == s2[i]:\n",
    "            hamming_count +=1\n",
    "    if hamming_count == 0 and anagram == True:\n",
    "        return True\n",
    "    elif hamming_count != 0 and anagram == True:\n",
    "        return hamming_count\n",
    "    else:\n",
    "        return False\n"
   ]
  },
  {
   "cell_type": "code",
   "execution_count": 61,
   "metadata": {},
   "outputs": [
    {
     "output_type": "stream",
     "name": "stdout",
     "text": [
      "2.81 µs ± 389 ns per loop (mean ± std. dev. of 7 runs, 100000 loops each)\n"
     ]
    }
   ],
   "source": [
    "%timeit challenge25(\"dear\",\"read\")"
   ]
  },
  {
   "cell_type": "code",
   "execution_count": 52,
   "metadata": {},
   "outputs": [],
   "source": [
    "def max_ham(a,b):\n",
    "    a_sorted = sorted(a)\n",
    "    b_sorted = sorted(b)\n",
    "    if a_sorted == b_sorted:\n",
    "        ham_dist = 0\n",
    "        for i in range(len(a)):\n",
    "            if a[i] == b[i]:\n",
    "                ham_dist += 1\n",
    "        if ham_dist == 0:\n",
    "            return True\n",
    "        else:\n",
    "            return ham_dist\n",
    "    else:\n",
    "        return False"
   ]
  },
  {
   "source": [
    "Create a function that takes a list and returns a new list containing only prime numbers.\n",
    "\n",
    "Examples\n",
    "\n",
    "filter_primes([7, 9, 3, 9, 10, 11, 27]) ➞ [7, 3, 11]\n",
    "\n",
    "filter_primes([10007, 1009, 1007, 27, 147, 77, 1001, 70]) ➞ [10007, 1009]\n",
    "\n",
    "filter_primes([1009, 10, 10, 10, 3, 33, 9, 4, 1, 61, 63, 69, 1087, 1091, 1093, 1097]) ➞ [1009, 3, 61, 1087, 1091, 1093, 1097]"
   ],
   "cell_type": "markdown",
   "metadata": {}
  },
  {
   "cell_type": "code",
   "execution_count": 61,
   "metadata": {},
   "outputs": [],
   "source": [
    "nums = [7, 9, 3, 9, 10, 11, 27]\n",
    "\n",
    "def challenge26(nums):\n",
    "    lst = []\n",
    "    for num in nums:\n",
    "        prime = True\n",
    "        for i in range(2,10):\n",
    "            if num % i == 0 and num != i:\n",
    "                prime = False\n",
    "        if prime == True:\n",
    "            lst.append(num)\n",
    "    return lst"
   ]
  },
  {
   "cell_type": "code",
   "execution_count": 63,
   "metadata": {},
   "outputs": [
    {
     "output_type": "stream",
     "name": "stdout",
     "text": [
      "20.2 µs ± 1.69 µs per loop (mean ± std. dev. of 7 runs, 10000 loops each)\n"
     ]
    }
   ],
   "source": [
    "%timeit challenge26([1009, 10, 10, 10, 3, 33, 9, 4, 1, 61, 63, 69, 1087, 1091, 1093, 1097])"
   ]
  },
  {
   "cell_type": "code",
   "execution_count": null,
   "metadata": {},
   "outputs": [],
   "source": []
  }
 ],
 "metadata": {
  "kernelspec": {
   "display_name": "Python 3",
   "language": "python",
   "name": "python3"
  },
  "language_info": {
   "codemirror_mode": {
    "name": "ipython",
    "version": 3
   },
   "file_extension": ".py",
   "mimetype": "text/x-python",
   "name": "python",
   "nbconvert_exporter": "python",
   "pygments_lexer": "ipython3",
   "version": "3.8.3-final"
  }
 },
 "nbformat": 4,
 "nbformat_minor": 4
}