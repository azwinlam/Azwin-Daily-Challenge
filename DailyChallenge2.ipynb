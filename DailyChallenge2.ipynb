{
 "cells": [
  {
   "cell_type": "code",
   "execution_count": 122,
   "metadata": {},
   "outputs": [],
   "source": [
    "#Daily Challenge 40\n",
    "import numpy as np\n",
    "a = [ [5, 5], [6, 7], [9, 1] ]"
   ]
  },
  {
   "cell_type": "code",
   "execution_count": 123,
   "metadata": {},
   "outputs": [],
   "source": [
    "def transpose_matrix(a):\n",
    "    full_lst = [j for i in a for j in i]\n",
    "    answer = []\n",
    "    for num in range(len(a[0])):\n",
    "        tempo_lst = []\n",
    "        for i in range(num,len(full_lst),len(a[0])):\n",
    "            tempo_lst.append(full_lst[i])\n",
    "        answer.append(tempo_lst)\n",
    "    return answer"
   ]
  },
  {
   "cell_type": "markdown",
   "metadata": {},
   "source": [
    "Write a function that replaces each integer with the next largest in the list.\n",
    "\n",
    "Examples\n",
    "\n",
    "replace_next_largest([5, 7, 3, 2, 8]) ➞ [7, 8, 5, 3, -1]\n",
    "\n",
    "replace_next_largest([2, 3, 4, 5]) ➞ [3, 4, 5, -1]\n",
    "\n",
    "replace_next_largest([1, 0, -1, 8, -72]) ➞ [8, 1, 0, -1, -1]"
   ]
  },
  {
   "cell_type": "code",
   "execution_count": 177,
   "metadata": {},
   "outputs": [],
   "source": [
    "lst = [1, 0, -1, 8, -72]\n",
    "\n",
    "def replace_next_largest(lst):\n",
    "    def find_next_biggest(i,lst):\n",
    "        none = -1\n",
    "        count = -1\n",
    "        check_how_many = len(lst)\n",
    "        while count <= check_how_many:\n",
    "            count+=1\n",
    "            i += 1\n",
    "            if i in lst:\n",
    "                bigger = i\n",
    "                return bigger\n",
    "        return none\n",
    "    sort = sorted(lst,reverse=True)\n",
    "    answer = []\n",
    "    for i in lst:\n",
    "        i = find_next_biggest(i,lst)\n",
    "        answer.append(i)\n",
    "    return answer"
   ]
  },
  {
   "cell_type": "code",
   "execution_count": 181,
   "metadata": {},
   "outputs": [
    {
     "name": "stdout",
     "output_type": "stream",
     "text": [
      "[7, 8, 5, 3, -1]\n",
      "[3, 4, 5, -1]\n",
      "[8, 1, 0, -1, -1]\n"
     ]
    }
   ],
   "source": [
    "print(replace_next_largest([5, 7, 3, 2, 8]))\n",
    "print(replace_next_largest([2, 3, 4, 5]))\n",
    "print(replace_next_largest([1, 0, -1, 8, -72]))\n",
    "\n"
   ]
  },
  {
   "cell_type": "markdown",
   "metadata": {},
   "source": [
    "freed_prisoners([1, 1, 0, 0, 0, 1, 0]) ➞ 4\n",
    "\n",
    "freed_prisoners([1, 1, 1]) ➞ 1\n",
    "\n",
    "freed_prisoners([0, 0, 0]) ➞ 0\n",
    "\n",
    "freed_prisoners([0, 1, 1, 1]) ➞ 0"
   ]
  },
  {
   "cell_type": "code",
   "execution_count": 205,
   "metadata": {},
   "outputs": [],
   "source": [
    "lst = [1, 1, 0, 0, 0, 1, 0]\n",
    "\n",
    "def freed_prisoners(lst):\n",
    "    count = 0\n",
    "    for i in range(len(lst)):\n",
    "        if lst[i] == 1:\n",
    "            count+=1\n",
    "            lst = [0 if x==1 else 1 for x in lst]\n",
    "        else:\n",
    "            pass\n",
    "    return count"
   ]
  },
  {
   "cell_type": "code",
   "execution_count": 206,
   "metadata": {},
   "outputs": [
    {
     "name": "stdout",
     "output_type": "stream",
     "text": [
      "4\n",
      "1\n",
      "0\n",
      "1\n"
     ]
    }
   ],
   "source": [
    "a = [1, 1, 0, 0, 0, 1, 0]\n",
    "\n",
    "b = [1, 1, 1]\n",
    "\n",
    "c = [0, 0, 0]\n",
    "\n",
    "d = [0, 1, 1, 1]\n",
    "\n",
    "print(freed_prisoners(a))\n",
    "print(freed_prisoners(b))\n",
    "print(freed_prisoners(c))\n",
    "print(freed_prisoners(d))"
   ]
  },
  {
   "cell_type": "code",
   "execution_count": 157,
   "metadata": {},
   "outputs": [],
   "source": [
    "def semi(n):\n",
    "    lst = [n]\n",
    "    while n>1:\n",
    "        n -= 2\n",
    "        if n != 0:\n",
    "            lst.append(n)\n",
    "    return lst\n",
    "\n",
    "def alt(n):\n",
    "    lst = [n]\n",
    "    positive = True\n",
    "    while n>1:\n",
    "        n -= 1\n",
    "        if n != 0 and positive == True:\n",
    "            lst_num = n\n",
    "            lst.append(-lst_num)\n",
    "            positive = False\n",
    "        elif n != 0 and positive == False:\n",
    "            lst_num = n\n",
    "            lst.append(lst_num)\n",
    "            positive = True\n",
    "    return lst\n",
    "\n",
    "def alt_semi(n):\n",
    "    import math\n",
    "    alt_list = alt(n)\n",
    "    temp_list = []\n",
    "    for x in alt_list:\n",
    "        if x > 0:\n",
    "            y = math.factorial(x)\n",
    "            temp_list.append(y)\n",
    "        else:\n",
    "            y = math.factorial(abs(x))*-1\n",
    "            temp_list.append(y)\n",
    "    return sum(temp_list) - math.prod(semi(n))"
   ]
  },
  {
   "cell_type": "code",
   "execution_count": 159,
   "metadata": {},
   "outputs": [
    {
     "data": {
      "text/plain": [
       "0"
      ]
     },
     "execution_count": 159,
     "metadata": {},
     "output_type": "execute_result"
    }
   ],
   "source": [
    "alt_semi(1)"
   ]
  },
  {
   "cell_type": "code",
   "execution_count": 160,
   "metadata": {},
   "outputs": [
    {
     "data": {
      "text/plain": [
       "-1"
      ]
     },
     "execution_count": 160,
     "metadata": {},
     "output_type": "execute_result"
    }
   ],
   "source": [
    "alt_semi(2)"
   ]
  },
  {
   "cell_type": "code",
   "execution_count": 161,
   "metadata": {},
   "outputs": [
    {
     "data": {
      "text/plain": [
       "2"
      ]
     },
     "execution_count": 161,
     "metadata": {},
     "output_type": "execute_result"
    }
   ],
   "source": [
    "alt_semi(3)"
   ]
  },
  {
   "cell_type": "code",
   "execution_count": 132,
   "metadata": {},
   "outputs": [],
   "source": [
    "import math\n",
    "def alt_semi2(n):\n",
    "    semi_sum = 1\n",
    "    alt_sum = 0\n",
    "    for i in range(n,1,-2):\n",
    "        semi_sum*=i\n",
    "    for j, k in enumerate(range(n,0,-1),0):\n",
    "        alt_sum += math.factorial(k)*(-1)**(j)\n",
    "    return alt_sum - semi_sum"
   ]
  },
  {
   "cell_type": "code",
   "execution_count": 163,
   "metadata": {},
   "outputs": [
    {
     "name": "stdout",
     "output_type": "stream",
     "text": [
      "2.93 µs ± 284 ns per loop (mean ± std. dev. of 7 runs, 100000 loops each)\n"
     ]
    }
   ],
   "source": [
    "%timeit alt_semi2(3)"
   ]
  },
  {
   "cell_type": "code",
   "execution_count": 164,
   "metadata": {},
   "outputs": [
    {
     "name": "stdout",
     "output_type": "stream",
     "text": [
      "3.6 µs ± 311 ns per loop (mean ± std. dev. of 7 runs, 100000 loops each)\n"
     ]
    }
   ],
   "source": [
    "%timeit alt_semi(3)"
   ]
  },
  {
   "cell_type": "code",
   "execution_count": 43,
   "metadata": {},
   "outputs": [],
   "source": [
    "def closest_palindrome(num):\n",
    "    def check_palindrome(num):\n",
    "        if str(num)[::-1] == str(num):\n",
    "            return True\n",
    "        \n",
    "    jason = \"fat\"\n",
    "    \n",
    "    if check_palindrome(num) == True:\n",
    "        return num\n",
    "    else:\n",
    "        num_up = num\n",
    "        num_down = num\n",
    "        while jason == \"fat\":\n",
    "            num_up += 1\n",
    "            num_down -= 1\n",
    "            if check_palindrome(num_down) == True:\n",
    "                return num_down            \n",
    "            if check_palindrome(num_up) == True:\n",
    "                return num_up\n",
    "\n",
    "\n",
    "    "
   ]
  },
  {
   "cell_type": "code",
   "execution_count": 65,
   "metadata": {},
   "outputs": [
    {
     "name": "stdout",
     "output_type": "stream",
     "text": [
      "888\n",
      "99\n",
      "888\n",
      "22\n",
      "1001\n"
     ]
    }
   ],
   "source": [
    "print(closest_palindrome(887))\n",
    "print(closest_palindrome(100))\n",
    "print(closest_palindrome(888))\n",
    "print(closest_palindrome(27))\n",
    "print(closest_palindrome(1023))"
   ]
  },
  {
   "cell_type": "code",
   "execution_count": 57,
   "metadata": {},
   "outputs": [],
   "source": [
    "def is_pal(num):\n",
    "\n",
    "    if str(num)[0] == str(num)[-1]:\n",
    "        return True\n",
    "\n",
    "def closest_pal(num):\n",
    "\n",
    "    if is_pal(num) == True:\n",
    "        return num\n",
    "\n",
    "    num_list = list(str(num))\n",
    "    num_list[-1] = num_list[0]\n",
    "    print(num_list)\n",
    "    new_num = int(''.join(num_list))\n",
    "    print(new_num)\n",
    "    distance = abs(num - new_num)\n",
    "    print(distance)\n",
    "    \n",
    "    if is_pal(num-distance) == True:\n",
    "        return num - distance\n",
    "    else:\n",
    "        return new_num"
   ]
  },
  {
   "cell_type": "code",
   "execution_count": 64,
   "metadata": {},
   "outputs": [
    {
     "name": "stdout",
     "output_type": "stream",
     "text": [
      "['1', '0', '2', '1']\n",
      "1021\n",
      "2\n"
     ]
    },
    {
     "data": {
      "text/plain": [
       "1021"
      ]
     },
     "execution_count": 64,
     "metadata": {},
     "output_type": "execute_result"
    }
   ],
   "source": [
    "closest_pal(1023)"
   ]
  },
  {
   "cell_type": "code",
   "execution_count": 69,
   "metadata": {},
   "outputs": [],
   "source": [
    "d = { \"George\": 96, \"Emily\": 95, \"Susan\": 93, \"Jane\": 89, \"Brett\": 82 }\n",
    "d2 = { \"Kate\": 92, \"Carol\": 92, \"Jess\": 87, \"Bruce\": 87, \"Scott\": 84 }"
   ]
  },
  {
   "cell_type": "code",
   "execution_count": 143,
   "metadata": {},
   "outputs": [],
   "source": [
    "def rank(d,name):\n",
    "    l = list(d.values())\n",
    "    rank = [i+1 for i in range(len(l))]\n",
    "    new_d = {}\n",
    "    for i in range(len(l)):\n",
    "#         print(i, l,new_d)\n",
    "        if i == 0:\n",
    "            new_d[l[i]] = rank[i]\n",
    "        elif l[i] == l[i-1]:\n",
    "            new_d[l[i]] = new_d[l[i-1]]\n",
    "        else:\n",
    "            new_d[l[i]] = rank[i]\n",
    "#         print(new_d)\n",
    "    for k,v in d.items():\n",
    "        d[k] = new_d[v]\n",
    "        print(d)\n",
    "    return d[name]\n",
    "    "
   ]
  },
  {
   "cell_type": "code",
   "execution_count": 144,
   "metadata": {},
   "outputs": [
    {
     "name": "stdout",
     "output_type": "stream",
     "text": [
      "{'George': 1, 'Emily': 95, 'Susan': 93, 'Jane': 89, 'Brett': 82}\n",
      "{'George': 1, 'Emily': 2, 'Susan': 93, 'Jane': 89, 'Brett': 82}\n",
      "{'George': 1, 'Emily': 2, 'Susan': 3, 'Jane': 89, 'Brett': 82}\n",
      "{'George': 1, 'Emily': 2, 'Susan': 3, 'Jane': 4, 'Brett': 82}\n",
      "{'George': 1, 'Emily': 2, 'Susan': 3, 'Jane': 4, 'Brett': 5}\n",
      "4\n",
      "{'Kate': 1, 'Carol': 92, 'Jess': 87, 'Bruce': 87, 'Scott': 84}\n",
      "{'Kate': 1, 'Carol': 1, 'Jess': 87, 'Bruce': 87, 'Scott': 84}\n",
      "{'Kate': 1, 'Carol': 1, 'Jess': 3, 'Bruce': 87, 'Scott': 84}\n",
      "{'Kate': 1, 'Carol': 1, 'Jess': 3, 'Bruce': 3, 'Scott': 84}\n",
      "{'Kate': 1, 'Carol': 1, 'Jess': 3, 'Bruce': 3, 'Scott': 5}\n",
      "3\n"
     ]
    }
   ],
   "source": [
    "print(rank({ \"George\": 96, \"Emily\": 95, \"Susan\": 93, \"Jane\": 89, \"Brett\": 82 }, \"Jane\"))\n",
    "print(rank({ \"Kate\": 92, \"Carol\": 92, \"Jess\": 87, \"Bruce\": 87, \"Scott\": 84 },\"Bruce\"))"
   ]
  },
  {
   "cell_type": "code",
   "execution_count": 86,
   "metadata": {},
   "outputs": [
    {
     "name": "stdout",
     "output_type": "stream",
     "text": [
      "92 92\n",
      "87 87\n"
     ]
    },
    {
     "data": {
      "text/plain": [
       "3"
      ]
     },
     "execution_count": 86,
     "metadata": {},
     "output_type": "execute_result"
    }
   ],
   "source": []
  },
  {
   "cell_type": "code",
   "execution_count": 73,
   "metadata": {},
   "outputs": [
    {
     "name": "stdout",
     "output_type": "stream",
     "text": [
      "Kate 92\n",
      "Carol 92\n",
      "Jess 87\n",
      "Bruce 87\n",
      "Scott 84\n"
     ]
    }
   ],
   "source": []
  },
  {
   "cell_type": "code",
   "execution_count": 74,
   "metadata": {},
   "outputs": [
    {
     "data": {
      "text/plain": [
       "{'Kate': 1, 'Carol': 1, 'Jess': 3, 'Bruce': 3, 'Scott': 5}"
      ]
     },
     "execution_count": 74,
     "metadata": {},
     "output_type": "execute_result"
    }
   ],
   "source": [
    "magic_square_game([2, \"100\"], [1, \"101\"])"
   ]
  },
  {
   "cell_type": "code",
   "execution_count": 80,
   "metadata": {},
   "outputs": [],
   "source": [
    "import numpy as np\n",
    "lst1 = [1, \"010\"]\n",
    "lst2 = [3, \"101\"]\n",
    " \n",
    "    "
   ]
  },
  {
   "cell_type": "code",
   "execution_count": 125,
   "metadata": {},
   "outputs": [],
   "source": [
    "def magic_square_game(lst1,lst2):\n",
    "    print(\"alice\")\n",
    "    alice_array = np.full([3,3],9)\n",
    "    row = lst1[0]-1\n",
    "    for i in range(3):\n",
    "        if i != row:\n",
    "            pass\n",
    "        else:\n",
    "            for j in range(len(lst1[1])):\n",
    "                alice_array[i][j] = lst1[1][j]\n",
    "    print(alice_array)\n",
    "\n",
    "    bob_array = np.full([3,3],9)\n",
    "    column = lst2[0]-1\n",
    "\n",
    "    print(\"bob\")\n",
    "    for c in range(3):\n",
    "        if c != column:\n",
    "            pass\n",
    "        else:\n",
    "            for r in range(len(lst2[1])):\n",
    "                bob_array[r,c] = lst2[1][r]\n",
    "    print(bob_array)\n",
    "\n",
    "    answer = np.add(bob_array,alice_array)\n",
    "    print(answer)\n",
    "    if 0 in answer:\n",
    "        return True\n",
    "    elif 2 in answer:\n",
    "        return True\n",
    "    else:\n",
    "        return False"
   ]
  },
  {
   "cell_type": "code",
   "execution_count": 126,
   "metadata": {},
   "outputs": [
    {
     "name": "stdout",
     "output_type": "stream",
     "text": [
      "alice\n",
      "[[9 9 9]\n",
      " [1 0 0]\n",
      " [9 9 9]]\n",
      "bob\n",
      "[[1 9 9]\n",
      " [0 9 9]\n",
      " [1 9 9]]\n",
      "[[10 18 18]\n",
      " [ 1  9  9]\n",
      " [10 18 18]]\n"
     ]
    },
    {
     "data": {
      "text/plain": [
       "False"
      ]
     },
     "execution_count": 126,
     "metadata": {},
     "output_type": "execute_result"
    }
   ],
   "source": [
    "magic_square_game([2, \"100\"], [1, \"101\"])"
   ]
  },
  {
   "cell_type": "code",
   "execution_count": 107,
   "metadata": {},
   "outputs": [],
   "source": [
    "def magic_square_game2(l1, l2):\n",
    "\n",
    "    ann_grid = np.full((3,3), 5, dtype=int)\n",
    "    ann_row = l1[0] - 1\n",
    "    ann_vals = [i for i in str(l1[1])]\n",
    "    bob_col = l2[0] - 1\n",
    "    bob_vals = [i for i in str(l2[1])]\n",
    "    ann_grid[ann_row] = ann_vals\n",
    "    #print(ann_grid)\n",
    "    for i in range(3):\n",
    "        if ann_grid[:, bob_col][i] == float(bob_vals[i]):\n",
    "            return True\n",
    "    return False"
   ]
  },
  {
   "cell_type": "code",
   "execution_count": 108,
   "metadata": {},
   "outputs": [
    {
     "name": "stdout",
     "output_type": "stream",
     "text": [
      "20.8 µs ± 1.24 µs per loop (mean ± std. dev. of 7 runs, 10000 loops each)\n"
     ]
    }
   ],
   "source": [
    "%timeit magic_square_game2([2, \"100\"], [1, \"101\"])"
   ]
  },
  {
   "cell_type": "code",
   "execution_count": 116,
   "metadata": {},
   "outputs": [],
   "source": [
    "def magic_square_game3(alice, bob):\n",
    "    c = alice[1][bob[0]-1]\n",
    "    d = bob[1][alice[0]-1]\n",
    "    if (c == d):\n",
    "        return True\n",
    "    else:\n",
    "        return False"
   ]
  },
  {
   "cell_type": "code",
   "execution_count": 118,
   "metadata": {},
   "outputs": [
    {
     "data": {
      "text/plain": [
       "True"
      ]
     },
     "execution_count": 118,
     "metadata": {},
     "output_type": "execute_result"
    }
   ],
   "source": [
    "magic_square_game3([2, \"001\"], [1, \"101\"])"
   ]
  },
  {
   "cell_type": "markdown",
   "metadata": {},
   "source": [
    "## Day 45\n",
    "The goal of this challenge is to return Pascal's triangle up to number 29. Pascal's triangle is the sum of the two upper corners.\n",
    "\n",
    "1 1 1 2 1 1 3 3 1\n",
    "\n",
    "There will always be the 1 in the first\n",
    "place and the row in the second.\n",
    "Create a function that returns a row from Pascal's triangle. To find the row and column you can use n!/(k!*(n-k)!) where n is the row down and k is the column.\n",
    "\n",
    "Examples\n",
    "\n",
    "pascals_triangle(1) ➞ \"1 1\"\n",
    "\n",
    "pascals_triangle(4) ➞ \"1 4 6 4 1\"\n",
    "\n",
    "pascals_triangle(6) ➞ \"1 6 15 20 15 6 1\"\n",
    "\n",
    "pascals_triangle(8) ➞ \"1 8 28 56 70 56 28 8 1\""
   ]
  },
  {
   "cell_type": "code",
   "execution_count": 82,
   "metadata": {},
   "outputs": [],
   "source": [
    "def pascals_triangle(n):\n",
    "    a = [] #an empty list\n",
    "    for i in range(n+1):\n",
    "        a.append([])\n",
    "        a[i].append(1)\n",
    "        for j in range(1, i):\n",
    "            a[i].append(a[i - 1][j - 1] + a[i - 1][j])\n",
    "        print(a)\n",
    "        if(n != 0):\n",
    "            a[i].append(1)\n",
    "    return a[n]"
   ]
  },
  {
   "cell_type": "code",
   "execution_count": 84,
   "metadata": {},
   "outputs": [
    {
     "name": "stdout",
     "output_type": "stream",
     "text": [
      "[[1]]\n",
      "[[1, 1], [1]]\n",
      "[[1, 1], [1, 1], [1, 2]]\n",
      "[[1, 1], [1, 1], [1, 2, 1], [1, 3, 3]]\n",
      "[[1, 1], [1, 1], [1, 2, 1], [1, 3, 3, 1], [1, 4, 6, 4]]\n"
     ]
    },
    {
     "data": {
      "text/plain": [
       "[1, 4, 6, 4, 1]"
      ]
     },
     "execution_count": 84,
     "metadata": {},
     "output_type": "execute_result"
    }
   ],
   "source": [
    "pascals_triangle(4)"
   ]
  },
  {
   "cell_type": "markdown",
   "metadata": {},
   "source": [
    "validate_swaps([\"BACDE\", \"EBCDA\", \"BCDEA\", \"ACBED\"], \"ABCDE\") ➞ [True, True, False, False]"
   ]
  },
  {
   "cell_type": "code",
   "execution_count": 150,
   "metadata": {},
   "outputs": [],
   "source": [
    "def validate_swaps(test, target):\n",
    "    truth = []\n",
    "    for i in test:\n",
    "        testing = i\n",
    "        test_list = list(testing)\n",
    "        count = 0\n",
    "        for i in range(0,len(testing)-1):\n",
    "            for j in range(i+1,len(testing)):\n",
    "\n",
    "                test_list[i],test_list[j] = test_list[j],test_list[i]\n",
    "                test_list = \"\".join(test_list)\n",
    "                if test_list == target:\n",
    "                    count += 1\n",
    "                test_list = list(test_list)\n",
    "                test_list[j],test_list[i] = test_list[i],test_list[j]\n",
    "        if count == 1:\n",
    "            truth.append(True)\n",
    "        elif count == 0:\n",
    "            truth.append(False)\n",
    "    return truth"
   ]
  },
  {
   "cell_type": "code",
   "execution_count": 151,
   "metadata": {},
   "outputs": [
    {
     "data": {
      "text/plain": [
       "[True, True, False, False]"
      ]
     },
     "execution_count": 151,
     "metadata": {},
     "output_type": "execute_result"
    }
   ],
   "source": [
    "validate_swaps([\"BACDE\", \"EBCDA\", \"BCDEA\", \"ACBED\"], \"ABCDE\")"
   ]
  },
  {
   "cell_type": "code",
   "execution_count": 152,
   "metadata": {},
   "outputs": [
    {
     "data": {
      "text/plain": [
       "[True, True, True, True]"
      ]
     },
     "execution_count": 152,
     "metadata": {},
     "output_type": "execute_result"
    }
   ],
   "source": [
    "validate_swaps([\"32145\", \"12354\", \"15342\", \"12543\"], \"12345\")"
   ]
  },
  {
   "cell_type": "code",
   "execution_count": 153,
   "metadata": {},
   "outputs": [
    {
     "data": {
      "text/plain": [
       "[True, False, False, False]"
      ]
     },
     "execution_count": 153,
     "metadata": {},
     "output_type": "execute_result"
    }
   ],
   "source": [
    "validate_swaps([\"9786\", \"9788\", \"97865\", \"7689\"], \"9768\") "
   ]
  },
  {
   "cell_type": "code",
   "execution_count": 237,
   "metadata": {},
   "outputs": [],
   "source": [
    "import numpy as np\n",
    "\n",
    "arr = np.array([ [1, 0, 0], [0, 1, 0], [0, 0, 1] ])\n",
    "arr2 = np.array( [ [0, 2, 2], [2, 0, 2], [2, 2, 0] ])"
   ]
  },
  {
   "cell_type": "code",
   "execution_count": 158,
   "metadata": {},
   "outputs": [
    {
     "data": {
      "text/plain": [
       "array([[1, 0, 0],\n",
       "       [0, 1, 0],\n",
       "       [0, 0, 1]])"
      ]
     },
     "execution_count": 158,
     "metadata": {},
     "output_type": "execute_result"
    }
   ],
   "source": [
    "arr"
   ]
  },
  {
   "cell_type": "code",
   "execution_count": 159,
   "metadata": {},
   "outputs": [
    {
     "data": {
      "text/plain": [
       "array([[0, 2, 2],\n",
       "       [2, 0, 2],\n",
       "       [2, 2, 0]])"
      ]
     },
     "execution_count": 159,
     "metadata": {},
     "output_type": "execute_result"
    }
   ],
   "source": [
    "arr2"
   ]
  },
  {
   "cell_type": "code",
   "execution_count": 179,
   "metadata": {},
   "outputs": [
    {
     "name": "stdout",
     "output_type": "stream",
     "text": [
      "rows: [1 0 0]\n",
      "columns: [1 0 0]\n",
      "rows: [0 1 0]\n",
      "columns: [0 1 0]\n",
      "rows: [0 0 1]\n",
      "columns: [0 0 1]\n"
     ]
    }
   ],
   "source": [
    "for r in range(len(arr)):\n",
    "    print(f\"rows: {arr[r,:]}\")\n",
    "    print(f\"columns: {arr[:,r]}\")"
   ]
  },
  {
   "cell_type": "code",
   "execution_count": 292,
   "metadata": {},
   "outputs": [],
   "source": [
    "def transform_matrix2(arr):\n",
    "    arr = np.array(arr)\n",
    "    answer = np.zeros([3,3])\n",
    "    for i in range(arr.shape[0]):\n",
    "        for j in range(arr.shape[1]):\n",
    "            answer[i][j] = sum(arr[i]) + sum(arr[:,j]) - 2*arr[i][j]\n",
    "    return answer"
   ]
  },
  {
   "cell_type": "code",
   "execution_count": 294,
   "metadata": {},
   "outputs": [],
   "source": [
    "def transform_matrix(arr):\n",
    "    arr = np.array(arr)\n",
    "    answer = np.zeros([3,3])\n",
    "    for i in range(arr.shape[0]):\n",
    "        for j in range(arr.shape[1]):\n",
    "            if arr[i][j] == 1:\n",
    "                answer[i][j] = sum(arr[i])-1 + sum(arr[:,j])-1\n",
    "            elif arr[i][j] == 0:\n",
    "                answer[i][j] = sum(arr[i]) + sum(arr[:,j])\n",
    "    return answer"
   ]
  },
  {
   "cell_type": "code",
   "execution_count": 295,
   "metadata": {},
   "outputs": [
    {
     "data": {
      "text/plain": [
       "array([[0., 2., 2.],\n",
       "       [2., 0., 2.],\n",
       "       [2., 2., 0.]])"
      ]
     },
     "execution_count": 295,
     "metadata": {},
     "output_type": "execute_result"
    }
   ],
   "source": [
    "transform_matrix([[1, 0, 0], [0, 1, 0], [0, 0, 1]])"
   ]
  },
  {
   "cell_type": "code",
   "execution_count": 296,
   "metadata": {},
   "outputs": [
    {
     "data": {
      "text/plain": [
       "array([[2., 2., 4.],\n",
       "       [2., 2., 2.],\n",
       "       [2., 2., 2.]])"
      ]
     },
     "execution_count": 296,
     "metadata": {},
     "output_type": "execute_result"
    }
   ],
   "source": [
    "transform_matrix([ [1, 1, 1], [0, 0, 1], [0, 0, 1] ])"
   ]
  },
  {
   "cell_type": "code",
   "execution_count": 297,
   "metadata": {},
   "outputs": [
    {
     "data": {
      "text/plain": [
       "array([[2., 3., 4.],\n",
       "       [3., 2., 3.],\n",
       "       [2., 3., 2.]])"
      ]
     },
     "execution_count": 297,
     "metadata": {},
     "output_type": "execute_result"
    }
   ],
   "source": [
    "transform_matrix([ [1, 1, 1], [0, 1, 1], [0, 0, 1] ]) "
   ]
  },
  {
   "cell_type": "code",
   "execution_count": 299,
   "metadata": {},
   "outputs": [
    {
     "data": {
      "text/plain": [
       "array([[2., 3., 4.],\n",
       "       [3., 2., 3.],\n",
       "       [2., 3., 2.]])"
      ]
     },
     "execution_count": 299,
     "metadata": {},
     "output_type": "execute_result"
    }
   ],
   "source": [
    "transform_matrix2([ [1, 1, 1], [0, 1, 1], [0, 0, 1] ]) "
   ]
  },
  {
   "cell_type": "code",
   "execution_count": null,
   "metadata": {},
   "outputs": [],
   "source": [
    "def transform_matrix2(arr):\n",
    "    arr = np.array(arr)\n",
    "    answer = np.zeros([3,3])\n",
    "    for i in range(arr.shape[0]):\n",
    "        for j in range(arr.shape[1]):\n",
    "            answer[i][j] = sum(arr[i]) + sum(arr[:,j]) - 2*arr[i][j]\n",
    "    return answer"
   ]
  },
  {
   "cell_type": "code",
   "execution_count": 322,
   "metadata": {},
   "outputs": [
    {
     "ename": "TypeError",
     "evalue": "set expected at most 1 argument, got 2",
     "output_type": "error",
     "traceback": [
      "\u001b[1;31m---------------------------------------------------------------------------\u001b[0m",
      "\u001b[1;31mTypeError\u001b[0m                                 Traceback (most recent call last)",
      "\u001b[1;32m<ipython-input-322-bd201b7b669d>\u001b[0m in \u001b[0;36m<module>\u001b[1;34m\u001b[0m\n\u001b[0;32m      8\u001b[0m \u001b[1;32mfor\u001b[0m \u001b[0mi\u001b[0m \u001b[1;32min\u001b[0m \u001b[0mrange\u001b[0m\u001b[1;33m(\u001b[0m\u001b[0mlen\u001b[0m\u001b[1;33m(\u001b[0m\u001b[0mtotal_faces\u001b[0m\u001b[1;33m)\u001b[0m\u001b[1;33m-\u001b[0m\u001b[1;36m1\u001b[0m\u001b[1;33m)\u001b[0m\u001b[1;33m:\u001b[0m\u001b[1;33m\u001b[0m\u001b[1;33m\u001b[0m\u001b[0m\n\u001b[0;32m      9\u001b[0m     \u001b[1;32mfor\u001b[0m \u001b[0mj\u001b[0m \u001b[1;32min\u001b[0m \u001b[0mrange\u001b[0m\u001b[1;33m(\u001b[0m\u001b[0mi\u001b[0m\u001b[1;33m+\u001b[0m\u001b[1;36m1\u001b[0m\u001b[1;33m,\u001b[0m\u001b[0mlen\u001b[0m\u001b[1;33m(\u001b[0m\u001b[0mtotal_faces\u001b[0m\u001b[1;33m)\u001b[0m\u001b[1;33m)\u001b[0m\u001b[1;33m:\u001b[0m\u001b[1;33m\u001b[0m\u001b[1;33m\u001b[0m\u001b[0m\n\u001b[1;32m---> 10\u001b[1;33m         \u001b[0mrepeat\u001b[0m\u001b[1;33m.\u001b[0m\u001b[0mappend\u001b[0m\u001b[1;33m(\u001b[0m\u001b[0mset\u001b[0m\u001b[1;33m(\u001b[0m\u001b[0mtotal_faces\u001b[0m\u001b[1;33m[\u001b[0m\u001b[0mi\u001b[0m\u001b[1;33m]\u001b[0m\u001b[1;33m,\u001b[0m\u001b[0mtotal_faces\u001b[0m\u001b[1;33m[\u001b[0m\u001b[0mj\u001b[0m\u001b[1;33m]\u001b[0m\u001b[1;33m)\u001b[0m\u001b[1;33m)\u001b[0m\u001b[1;33m\u001b[0m\u001b[1;33m\u001b[0m\u001b[0m\n\u001b[0m\u001b[0;32m     11\u001b[0m         \u001b[1;32mif\u001b[0m \u001b[0mtotal_faces\u001b[0m\u001b[1;33m[\u001b[0m\u001b[0mi\u001b[0m\u001b[1;33m]\u001b[0m \u001b[1;33m+\u001b[0m \u001b[0mtotal_faces\u001b[0m\u001b[1;33m[\u001b[0m\u001b[0mj\u001b[0m\u001b[1;33m]\u001b[0m \u001b[1;33m==\u001b[0m \u001b[0mtarget\u001b[0m\u001b[1;33m:\u001b[0m\u001b[1;33m\u001b[0m\u001b[1;33m\u001b[0m\u001b[0m\n\u001b[0;32m     12\u001b[0m \u001b[1;33m\u001b[0m\u001b[0m\n",
      "\u001b[1;31mTypeError\u001b[0m: set expected at most 1 argument, got 2"
     ]
    }
   ],
   "source": [
    "#challenge 52\n",
    "numbers = [i for i in range(1,7)]\n",
    "dice_no = 2\n",
    "target = 6\n",
    "total_faces = dice_no * numbers\n",
    "count = 0\n",
    "repeat = []\n",
    "for i in range(len(total_faces)-1):\n",
    "    for j in range(i+1,len(total_faces)):\n",
    "        repeat.append(set(total_faces[i],total_faces[j]))\n",
    "        if total_faces[i] + total_faces[j] == target:\n",
    "            \n",
    "            count += 1\n",
    "print(count)\n",
    "    \n",
    "    "
   ]
  },
  {
   "cell_type": "code",
   "execution_count": 323,
   "metadata": {},
   "outputs": [
    {
     "data": {
      "text/plain": [
       "[1, 2, 3, 4, 5, 6, 1, 2, 3, 4, 5, 6]"
      ]
     },
     "execution_count": 323,
     "metadata": {},
     "output_type": "execute_result"
    }
   ],
   "source": [
    "total_faces"
   ]
  },
  {
   "cell_type": "code",
   "execution_count": null,
   "metadata": {},
   "outputs": [],
   "source": []
  }
 ],
 "metadata": {
  "kernelspec": {
   "display_name": "Python 3",
   "language": "python",
   "name": "python3"
  },
  "language_info": {
   "codemirror_mode": {
    "name": "ipython",
    "version": 3
   },
   "file_extension": ".py",
   "mimetype": "text/x-python",
   "name": "python",
   "nbconvert_exporter": "python",
   "pygments_lexer": "ipython3",
   "version": "3.8.3"
  }
 },
 "nbformat": 4,
 "nbformat_minor": 4
}
